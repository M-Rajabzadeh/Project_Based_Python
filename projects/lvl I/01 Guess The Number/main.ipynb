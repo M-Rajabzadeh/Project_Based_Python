{
 "cells": [
  {
   "cell_type": "code",
   "execution_count": 11,
   "metadata": {},
   "outputs": [
    {
     "name": "stdout",
     "output_type": "stream",
     "text": [
      "Too high! Try again.\n",
      "Congratulations! You guessed the correct number 5 and your score is 90\n",
      "Congratulations! You guessed the correct number 5 and your score is 100\n",
      "Thank you for playing! Goodbye!\n"
     ]
    }
   ],
   "source": [
    "import random\n",
    "\n",
    "def get_user_guess():\n",
    "    while True:\n",
    "        user_input = input('Guess a number between 1 and 100 (or press \"q\" to quit): ')\n",
    "        if user_input == 'q':\n",
    "            return None\n",
    "        elif user_input.isdigit():\n",
    "            guess = int(user_input)\n",
    "            if 1 <= guess <= 100:\n",
    "                return guess\n",
    "            else:\n",
    "                print('Your number is out of range. Please input a number between 1 and 100.')\n",
    "        else:\n",
    "            print('Invalid input. Please enter a number.')\n",
    "\n",
    "def play_game():\n",
    "    score = 100\n",
    "    random.seed(43)\n",
    "    random_num = random.randint(1, 100)\n",
    "    while True:\n",
    "        user_guess = get_user_guess()\n",
    "        if user_guess is None:\n",
    "            print('Goodbye')\n",
    "            return False\n",
    "        elif user_guess < random_num:\n",
    "            print('Too low! Try again.')\n",
    "        elif user_guess > random_num:\n",
    "            print('Too high! Try again.')\n",
    "        else:\n",
    "            print(f'Congratulations! You guessed the correct number {random_num} and your score is {score}')\n",
    "            break\n",
    "        score -= 10\n",
    "        score = max(score, 0)\n",
    "    return True\n",
    "\n",
    "def main():\n",
    "    while True:\n",
    "        game_result = play_game()\n",
    "        if not game_result:\n",
    "            break\n",
    "        play_again = input('Do you want to play again? (y/n): ').lower()\n",
    "        if play_again != 'y':\n",
    "            print('Thank you for playing! Goodbye!')\n",
    "            break\n",
    "\n",
    "if __name__ == \"__main__\":\n",
    "    main()\n"
   ]
  },
  {
   "cell_type": "code",
   "execution_count": null,
   "metadata": {},
   "outputs": [],
   "source": []
  }
 ],
 "metadata": {
  "kernelspec": {
   "display_name": "py311",
   "language": "python",
   "name": "python3"
  },
  "language_info": {
   "codemirror_mode": {
    "name": "ipython",
    "version": 3
   },
   "file_extension": ".py",
   "mimetype": "text/x-python",
   "name": "python",
   "nbconvert_exporter": "python",
   "pygments_lexer": "ipython3",
   "version": "3.11.4"
  }
 },
 "nbformat": 4,
 "nbformat_minor": 2
}
