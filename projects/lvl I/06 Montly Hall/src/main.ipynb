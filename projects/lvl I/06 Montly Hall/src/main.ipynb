{
 "cells": [
  {
   "cell_type": "code",
   "execution_count": null,
   "metadata": {},
   "outputs": [],
   "source": [
    "import random\n",
    "\n",
    "def simulate_monty_hall(change_choice, simulations):\n",
    "    \"\"\"\n",
    "    Simulates the Monty Hall problem.\n",
    "\n",
    "    Parameters:\n",
    "    change_choice (bool): Whether the player changes their initial choice after the host opens a door.\n",
    "    simulations (int): The number of simulations to run.\n",
    "\n",
    "    Returns:\n",
    "    float: The probability of winning the car by following the chosen strategy.\n",
    "    \"\"\"\n",
    "    wins = 0\n",
    "\n",
    "    for _ in range(simulations):\n",
    "        # Hide the car behind one of the three doors\n",
    "        doors = [0, 0, 1]  # 0 for goat, 1 for car\n",
    "        random.shuffle(doors)\n",
    "\n",
    "        # Player makes an initial choice\n",
    "        initial_choice = random.choice([0, 1, 2])\n",
    "\n",
    "        # Host opens one of the remaining doors that has a goat behind it\n",
    "        remaining_doors = [i for i in range(3) if i != initial_choice and doors[i] == 0]\n",
    "        door_opened_by_host = random.choice(remaining_doors)\n",
    "\n",
    "        # Player either changes their choice or sticks with the initial choice\n",
    "        if change_choice:\n",
    "            final_choice = [i for i in range(3) if i != initial_choice and i != door_opened_by_host][0]\n",
    "        else:\n",
    "            final_choice = initial_choice\n",
    "\n",
    "        # Check if the player wins\n",
    "        if doors[final_choice] == 1:\n",
    "            wins += 1\n",
    "\n",
    "    return wins / simulations\n",
    "\n",
    "if __name__ == \"__main__\":\n",
    "    simulations = 10000\n",
    "\n",
    "    win_rate_change = simulate_monty_hall(True, simulations)\n",
    "    win_rate_no_change = simulate_monty_hall(False, simulations)\n",
    "\n",
    "    print(f\"Winning probability by changing choice: {win_rate_change * 100:.2f}%\")\n",
    "    print(f\"Winning probability by not changing choice: {win_rate_no_change * 100:.2f}%\")\n"
   ]
  }
 ],
 "metadata": {
  "language_info": {
   "name": "python"
  }
 },
 "nbformat": 4,
 "nbformat_minor": 2
}
