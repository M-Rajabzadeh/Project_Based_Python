{
 "cells": [
  {
   "cell_type": "code",
   "execution_count": 9,
   "metadata": {},
   "outputs": [
    {
     "name": "stderr",
     "output_type": "stream",
     "text": [
      "[nltk_data] Downloading package words to /home/mmd/nltk_data...\n",
      "[nltk_data]   Package words is already up-to-date!\n"
     ]
    }
   ],
   "source": [
    "import random\n",
    "import string\n",
    "from nltk.corpus import words\n",
    "\n",
    "# Download the words dataset (only needs to be done once)\n",
    "import nltk\n",
    "nltk.download('words')\n",
    "\n",
    "def pin_password_generator(length: int) -> str:\n",
    "    \"\"\"\n",
    "    Generates a random PIN password of a given length (only digits).\n",
    "\n",
    "    Args:\n",
    "    - length (int): Length of the PIN password.\n",
    "\n",
    "    Returns:\n",
    "    - str: Generated PIN password.\n",
    "    \"\"\"\n",
    "    return ''.join(random.choice(string.digits) for _ in range(length))\n",
    "\n",
    "def random_password_generator(length=8, include_numbers=False, include_symbols=False) -> str:\n",
    "    \"\"\"\n",
    "    Generates a random password of a given length with optional numbers and symbols.\n",
    "\n",
    "    Args:\n",
    "    - length (int): Length of the password.\n",
    "    - include_numbers (bool): Whether to include numbers in the password.\n",
    "    - include_symbols (bool): Whether to include symbols in the password.\n",
    "\n",
    "    Returns:\n",
    "    - str: Generated random password.\n",
    "    \"\"\"\n",
    "    password_chars = string.ascii_letters\n",
    "    if include_numbers:\n",
    "        password_chars += string.digits\n",
    "    if include_symbols:\n",
    "        password_chars += string.punctuation\n",
    "    return ''.join(random.choice(password_chars) for _ in range(length))\n",
    "\n",
    "def memorize_password_generator(num_phrases=4, sep='_', uppercase=False) -> str:\n",
    "    \"\"\"\n",
    "    Generates a memorable password using random words from NLTK's words corpus.\n",
    "    Optionally converts some of the words to uppercase randomly.\n",
    "\n",
    "    Args:\n",
    "    - num_phrases (int): Number of words to be included in the password.\n",
    "    - sep (str): Separator to be used between words.\n",
    "    - uppercase (bool): Whether to randomly convert some words to uppercase.\n",
    "\n",
    "    Returns:\n",
    "    - str: Generated memorable password.\n",
    "    \"\"\"\n",
    "    words_list = [random.choice(words.words()) for _ in range(num_phrases)]\n",
    "\n",
    "    if uppercase:\n",
    "        words_list = [word.upper() if random.choice([True, False]) else word for word in words_list]\n",
    "\n",
    "    return sep.join(words_list)"
   ]
  },
  {
   "cell_type": "code",
   "execution_count": 16,
   "metadata": {},
   "outputs": [
    {
     "data": {
      "text/plain": [
       "'LATEROTORSION_ENIGMATIST_SELLABLE_SMITHSONITE'"
      ]
     },
     "execution_count": 16,
     "metadata": {},
     "output_type": "execute_result"
    }
   ],
   "source": [
    "memorize_password_generator()\n"
   ]
  },
  {
   "cell_type": "code",
   "execution_count": null,
   "metadata": {},
   "outputs": [],
   "source": [
    "Added password generators: pin_password_generator, random_password_generator, and memorize_password_generator.\n",
    "These functions generate different types of passwords: random PINs/passwords, random passwords with optional numbers and symbols, and memorable passwords using random words.\n",
    "Each function includes a docstring describing its purpose, arguments, and return value.\n",
    "Further refinement and testing are needed for each function."
   ]
  }
 ],
 "metadata": {
  "kernelspec": {
   "display_name": "py311",
   "language": "python",
   "name": "python3"
  },
  "language_info": {
   "codemirror_mode": {
    "name": "ipython",
    "version": 3
   },
   "file_extension": ".py",
   "mimetype": "text/x-python",
   "name": "python",
   "nbconvert_exporter": "python",
   "pygments_lexer": "ipython3",
   "version": "3.11.4"
  }
 },
 "nbformat": 4,
 "nbformat_minor": 2
}
